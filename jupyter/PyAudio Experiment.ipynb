{
 "cells": [
  {
   "cell_type": "code",
   "execution_count": 34,
   "metadata": {},
   "outputs": [],
   "source": [
    "import pyaudio\n",
    "import wave\n",
    "import numpy as np\n",
    "\n",
    "class GuitarInterface(object):\n",
    "    \n",
    "    def __init__(self, audio_device_name=\"JAM 96k\", audio_format=pyaudio.paInt16, channels=1, rate=44100,\n",
    "                 chunk_size=1024):\n",
    "        \n",
    "        # Store some values that we'll need easy access to\n",
    "        self.audio_format = audio_format\n",
    "        self.channels = channels\n",
    "        self.rate = rate\n",
    "        self.chunk_size = chunk_size\n",
    "        \n",
    "        # Initialize the Audio library and device\n",
    "        self.audio = pyaudio.PyAudio()\n",
    "        self.audio_device_id = [i for i in range(self.audio.get_device_count()) if self.audio.get_device_info_by_index(i)['name'] == audio_device_name][0]\n",
    "    \n",
    "    \"\"\"\n",
    "        Capture a number of seconds worth of audio input from the pyAudio device initialized.\n",
    "        Returns:\n",
    "            SoundSample: representing the audio captured\n",
    "    \"\"\"\n",
    "    def capture_audio(self, secs=5):\n",
    "        stream = self.audio.open(format=self.audio_format, channels=self.channels, rate=self.rate, input=True,\n",
    "                                input_device_index=self.audio_device_id, frames_per_buffer=self.chunk_size)\n",
    "\n",
    "        frames = stream.read(self.rate * secs)\n",
    "        \n",
    "        # stop Recording and properly close the stream\n",
    "        stream.stop_stream()\n",
    "        stream.close()\n",
    "        self.audio.terminate()\n",
    "        return SoundSample(frames)\n",
    "    \n",
    "    \"\"\"\n",
    "        Save a .wav file that can be played back from a SoundSample - \n",
    "        Should be saved with the same audio interface that it was created with (so datatypes match)\n",
    "        \n",
    "    \"\"\"\n",
    "    def save_byte_frames(self, sound_sample, output_filename=\"audio_output.wav\"):\n",
    "        \n",
    "        print (\"Saving audio sample to: {}\".format(output_filename))\n",
    "        waveFile = wave.open(output_filename, 'wb')\n",
    "        waveFile.setnchannels(self.channels)\n",
    "        waveFile.setsampwidth(self.audio.get_sample_size(self.audio_format))\n",
    "        waveFile.setframerate(self.rate)\n",
    "        waveFile.writeframes(b''.join(sound_sample.asByteList))\n",
    "        waveFile.close()\n",
    "        print(\"Finished writing file.\")\n",
    "        \n",
    "        \n",
    "# A small class to wrap up some useful sound sample conversion methods\n",
    "# This class doesn't cache the generated lists - this might be a useful optimization at Train time.\n",
    "class SoundSample(object):\n",
    "    \n",
    "    def __init__(self, sample_stream, np_datatype='Int16'):\n",
    "        self.np_datatype = np_datatype\n",
    "        self.sample_stream = sample_stream\n",
    "        \n",
    "    @property\n",
    "    def stream(self):\n",
    "        return self.sample_stream\n",
    "    \n",
    "    @property\n",
    "    def asList(self):\n",
    "        data = np.fromstring(self.sample_stream, self.np_datatype)\n",
    "        return data\n",
    "    \n",
    "    @property\n",
    "    def asByteList(self):\n",
    "        return [a for a in self.sample_stream]\n"
   ]
  },
  {
   "cell_type": "code",
   "execution_count": 35,
   "metadata": {},
   "outputs": [
    {
     "name": "stdout",
     "output_type": "stream",
     "text": [
      "Saved a short sample: 176400 frames\n",
      "Saving audio sample to: my_second_output.wav\n",
      "Finished writing file.\n"
     ]
    }
   ],
   "source": [
    "# Yay - looks like this simple test works - next we should do some simple plotting and get a waveform perhaps for the audio\n",
    "\n",
    "g_int = GuitarInterface()\n",
    "sound_sample = g_int.capture_audio(secs=2)\n",
    "print(\"Saved a short sample: {} frames\".format(len(sample_frames.stream)))\n",
    "\n",
    "# Let's try saving the audio to a file ->\n",
    "g_int.save_byte_frames(sound_sample, \"my_second_output.wav\")"
   ]
  },
  {
   "cell_type": "code",
   "execution_count": null,
   "metadata": {
    "collapsed": true
   },
   "outputs": [],
   "source": []
  }
 ],
 "metadata": {
  "kernelspec": {
   "display_name": "Python 2",
   "language": "python",
   "name": "python2"
  },
  "language_info": {
   "codemirror_mode": {
    "name": "ipython",
    "version": 2
   },
   "file_extension": ".py",
   "mimetype": "text/x-python",
   "name": "python",
   "nbconvert_exporter": "python",
   "pygments_lexer": "ipython2",
   "version": "2.7.13"
  }
 },
 "nbformat": 4,
 "nbformat_minor": 2
}
